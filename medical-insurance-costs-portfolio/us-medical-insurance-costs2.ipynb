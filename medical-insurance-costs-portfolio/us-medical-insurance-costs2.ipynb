{
 "cells": [
  {
   "cell_type": "markdown",
   "metadata": {},
   "source": [
    "# U.S. Medical Insurance Costs"
   ]
  },
  {
   "cell_type": "markdown",
   "metadata": {},
   "source": [
    "In this project, we will be inspecting the insurance dataset, and performing analysis on its contents. The goals of this project are:\n",
    "1. Explore average age:\n",
    "    - average age of people with coverage\n",
    "    - average age of people wiith coverage who smoke\n",
    "    - average age of people with children\n",
    "1. Explore cost vs age:\n",
    "    - average cost of coverage sorted by age and smoker status\n",
    "1. Explore effect of gender:\n",
    "    - average cost by gender\n",
    "    - average cost by gender and age\n",
    "1. Explore gender vs child-bearing:\n",
    "    - average age of someone with kids by gender\n",
    "    - average age of someone without kids by gender"
   ]
  },
  {
   "cell_type": "markdown",
   "metadata": {},
   "source": [
    "- Import the modules that we think we'll want to use in this notebook\n",
    "- Read the file"
   ]
  },
  {
   "cell_type": "code",
   "execution_count": null,
   "metadata": {},
   "outputs": [],
   "source": [
    "import numpy as np\n",
    "import pandas as pd\n",
    "import seaborn as sns\n",
    "import csv\n",
    "\n",
    "#read the file\n",
    "pddata = pd.read_csv('insurance.csv')\n",
    "with open('insurance.csv') as ins_file:\n",
    "    insurance_data_str = ins_file.readlines()"
   ]
  },
  {
   "cell_type": "markdown",
   "metadata": {},
   "source": [
    "- Now we start to clean up the data we're working with. We want to store the data as a dictionary, and the keys we're using are going to be pulled from the csv file the data is stored in. That way, if we get a new data set, as long as it has a header, it will get parsed by this script"
   ]
  },
  {
   "cell_type": "code",
   "execution_count": null,
   "metadata": {},
   "outputs": [],
   "source": [
    "#PARSE THE DATA\n",
    "\n",
    "#collect the first row as header, convert it to our keys\n",
    "header = insurance_data_str[0].split(',')       #data is comma-separated\n",
    "keys = []\n",
    "for i in range(len(header)):\n",
    "    keys.append(header[i].strip('\\n'))             #get rid of those pesky newlines\n",
    "    if keys[i] == 'bmi': \n",
    "        keys[i] = keys[i].upper()               #this is really only here for nicer formatting\n",
    "    else: keys[i] = keys[i].title()\n",
    "    \n",
    "#for the rest of the data, separate each part of it into its own data\n",
    "#print(insurance_data_str)\n",
    "insurance_data_lines = []\n",
    "for i in range(1,len(insurance_data_str)):\n",
    "    insurance_data_str[i] = insurance_data_str[i].strip('\\n')\n",
    "    insurance_data_lines.append(insurance_data_str[i].split(','))\n",
    "\n",
    "# Make a key:value pair for all of the data. The overall dictionary is categorized by number starting with 0 and counting upwards. \n",
    "# Each entry is also a dictionary with the keys all organized as such\n",
    "#insurance_data = {num:dataset for \n",
    "insurance_data = {}\n",
    "for i in range(len(insurance_data_lines)):\n",
    "    insurance_data[i] = dict(zip(keys, insurance_data_lines[i]))\n",
    "    \n",
    "#print(insurance_data)"
   ]
  },
  {
   "cell_type": "markdown",
   "metadata": {},
   "source": [
    "### Now it's time to analyze the data. We'll have one cell available for each of our goals stated at the top of this exercise\n",
    "1. Explore average age:\n",
    "    - average age of people with coverage\n",
    "    - average age of people wiith coverage who smoke\n",
    "    - average age of people with children"
   ]
  },
  {
   "cell_type": "code",
   "execution_count": null,
   "metadata": {},
   "outputs": [],
   "source": [
    "# AVERAGE AGE\n",
    "age_total = 0\n",
    "smoker_age_total = 0\n",
    "smoker_count = 0\n",
    "children_age_total = 0\n",
    "children_count = 0\n",
    "\n",
    "for entry, data in insurance_data.items():\n",
    "    age_total += float(data[\"Age\"])\n",
    "    if data[\"Smoker\"] == \"yes\":\n",
    "        smoker_age_total += float(data[\"Age\"])\n",
    "        smoker_count += 1\n",
    "    if data[\"Children\"] != '0':\n",
    "        children_age_total += float(data[\"Age\"])\n",
    "        children_count += 1\n",
    "\n",
    "\n",
    "average_age = age_total/len(insurance_data)\n",
    "average_smoker_age = smoker_age_total/smoker_count\n",
    "average_parent_age = children_age_total/children_count\n",
    "\n",
    "print(\"This dataset has {num} participants\".format(num=len(insurance_data)))\n",
    "print(\"The average age of this data set is: \", average_age)\n",
    "print(\"The average age of smokers with insurance is: \", average_smoker_age)\n",
    "print(\"The average age of parents is: \", average_parent_age)"
   ]
  },
  {
   "cell_type": "markdown",
   "metadata": {},
   "source": [
    "2. Explore cost vs age:\n",
    "    - average cost of coverage sorted by age and smoker status\n",
    "        - break that down into a few things. Get average cost by age for smokers and non-smokers\n",
    "        - show average cost by age separated into a dataset of smokers and non-smokers        "
   ]
  },
  {
   "cell_type": "code",
   "execution_count": 30,
   "metadata": {},
   "outputs": [],
   "source": [
    "# I'm just going to mess with dataframes down here for a little bit\n",
    "# Each of the lines below breaks the main dataset into a filtered dataset based on the conditions specified\n",
    "males = pddata[pddata.sex =='male']\n",
    "male_smokers = pddata[(pddata.sex == 'male') & (pddata.smoker == 'yes')]\n",
    "male_nonsmokers = pddata[(pddata.sex == 'male') & (pddata.smoker =='no')]\n",
    "females = pddata[pddata.sex == 'female']\n",
    "female_smokers = pddata[(pddata.sex == 'female') & (pddata.smoker =='yes')]\n",
    "female_nonsmokers = pddata[(pddata.sex == 'female') & (pddata.smoker =='no')]\n",
    "\n",
    "# Create some buckets for \n",
    "\n",
    "male_age_data = {}\n",
    "male_smoker_age_data = {}\n",
    "male_nonsmoker_age_data = {}\n",
    "female_age_data = {}\n",
    "female_smoker_age_data = {}\n",
    "female_nonsmokers_age_data = {}\n",
    "\n",
    "# age_data loop\n",
    "def data_by_age(frame):\n",
    "    age = {}\n",
    "    for index, row in frame.iterrows():\n",
    "        if row[\"age\"] not in age:\n",
    "            age.update({row[\"age\"]:{\"charges\":[float(row[\"charges\"])]}})\n",
    "        else: age[row[\"age\"]][\"charges\"].append(float(row[\"charges\"]))\n",
    "\n",
    "        # Take the data from the previous code block and determine the averages\n",
    "    for entry, data in age.items():\n",
    "        data[\"Total Charges\"] = sum(data[\"charges\"])\n",
    "        data[\"average\"] = data[\"Total Charges\"]/len(data[\"charges\"])\n",
    "    return age\n",
    "\n",
    "age_data = data_by_age(pddata)\n",
    "male_age_data = data_by_age(males)\n",
    "male_smoker_age_data = data_by_age(male_smokers)\n",
    "male_nonsmoker_age_data = data_by_age(male_nonsmokers)\n",
    "female_age_data = data_by_age(females)\n",
    "female_smoker_age_data = data_by_age(female_smokers)\n",
    "female_nonsmoker_age_data = data_by_age(female_nonsmokers)\n",
    "\n",
    "pdage_data = pd.DataFrame(age_data).T\n",
    "test = pdage_data.T\n",
    "pdmale_age_data = pd.DataFrame(male_age_data).T\n",
    "pdmale_smoker_age_data = pd.DataFrame(male_smoker_age_data).T\n",
    "pdmale_nonsmoker_age_data = pd.DataFrame(male_nonsmoker_age_data).T\n",
    "pdfemale_age_data = pd.DataFrame(female_age_data).T\n",
    "pdfemale_smoker_age_data = pd.DataFrame(female_smoker_age_data).T\n",
    "pdfemale_nonsmoker_age_data = pd.DataFrame(female_nonsmoker_age_data).T"
   ]
  },
  {
   "cell_type": "code",
   "execution_count": 35,
   "metadata": {},
   "outputs": [
    {
     "data": {
      "text/plain": [
       "<Axes: ylabel='average'>"
      ]
     },
     "execution_count": 35,
     "metadata": {},
     "output_type": "execute_result"
    },
    {
     "data": {
      "image/png": "[encoded data removed]",
      "text/plain": [
       "<Figure size 640x480 with 1 Axes>"
      ]
     },
     "metadata": {},
     "output_type": "display_data"
    }
   ],
   "source": [
    "def average_plot_reducer(age_data):\n",
    "    average_charges = ()\n",
    "    average_charges = (data[\"average\"] for column, data in age_data.items())\n",
    "    df = pd.DataFrame({'age': age_data.columns, 'average_cost': average_charges})\n",
    "    return df\n",
    "\n",
    "#all_average_cost = average_plot_reducer(pdage_data)\n",
    "#male_average_cost = average_plot_reducer(pdmale_age_data)\n",
    "#male_smoker_average_cost = average_plot_reducer(pdmale_smoker_age_data)\n",
    "#male_nonsmoker_average_cost = average_plot_reducer(pdmale_nonsmoker_age_data)\n",
    "#female_average_cost = average_plot_reducer(pdfemale_age_data)\n",
    "sns.scatterplot(data=pdmale_smoker_age_data, x=pdmale_smoker_age_data.index, y='average')\n",
    "sns.scatterplot(data=pdmale_nonsmoker_age_data, x=pdmale_nonsmoker_age_data.index, y='average')\n",
    "sns.scatterplot(data=pdfemale_smoker_age_data, x=pdfemale_smoker_age_data.index, y='average')\n",
    "sns.scatterplot(data=pdfemale_nonsmoker_age_data, x=pdfemale_nonsmoker_age_data.index, y='average')\n",
    "#sns.scatterplot(data=pdmale_nonsmoker_age_data, x=pdmale_nonsmoker_age_data.columns, y='average')\n",
    "#sns.scatterplot(pdmale_smoker_age_data, x='age', y='charges', hue='sex')\n",
    "#sns.pointplot(pddata, x='age', y='charges', hue='sex')\n"
   ]
  },
  {
   "cell_type": "markdown",
   "metadata": {},
   "source": [
    "1. Explore effect of gender:\n",
    "    - average cost by gender\n",
    "    - average cost by gender and age"
   ]
  },
  {
   "cell_type": "code",
   "execution_count": null,
   "metadata": {},
   "outputs": [],
   "source": []
  },
  {
   "cell_type": "markdown",
   "metadata": {},
   "source": [
    "1. Explore gender vs child-bearing:\n",
    "    - average age of someone with kids by gender\n",
    "    - average age of someone without kids by gender\n"
   ]
  }
 ],
 "metadata": {
  "kernelspec": {
   "display_name": "Python 3",
   "language": "python",
   "name": "python3"
  },
  "language_info": {
   "codemirror_mode": {
    "name": "ipython",
    "version": 3
   },
   "file_extension": ".py",
   "mimetype": "text/x-python",
   "name": "python",
   "nbconvert_exporter": "python",
   "pygments_lexer": "ipython3",
   "version": "3.10.12"
  }
 },
 "nbformat": 4,
 "nbformat_minor": 4
}
