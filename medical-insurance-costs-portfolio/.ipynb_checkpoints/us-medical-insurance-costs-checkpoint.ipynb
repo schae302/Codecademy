{
 "cells": [
  {
   "cell_type": "markdown",
   "metadata": {},
   "source": [
    "# U.S. Medical Insurance Costs"
   ]
  },
  {
   "cell_type": "markdown",
   "metadata": {},
   "source": [
    "In this project, we will be inspecting the insurance dataset, and performing analysis on its contents. The goals of this project are:\n",
    "1. Explore average age:\n",
    "    - average age of people with coverage\n",
    "    - average age of people wiith coverage who smoke\n",
    "    - average age of people with children\n",
    "1. Explore cost vs age:\n",
    "    - average cost of coverage sorted by age and smoker status\n",
    "1. Explore effect of gender:\n",
    "    - average cost by gender\n",
    "    - average cost by gender and age\n",
    "1. Explore gender vs child-bearing:\n",
    "    - average age of someone with kids by gender\n",
    "    - average age of someone without kids by gender"
   ]
  },
  {
   "cell_type": "markdown",
   "metadata": {},
   "source": [
    "- Import the modules that we think we'll want to use in this notebook\n",
    "- Read the file"
   ]
  },
  {
   "cell_type": "code",
   "execution_count": 27,
   "metadata": {},
   "outputs": [],
   "source": [
    "import pandas\n",
    "import numpy\n",
    "import csv\n",
    "\n",
    "#read the file\n",
    "with open('insurance.csv') as ins_file:\n",
    "    insurance_data_str = ins_file.readlines()"
   ]
  },
  {
   "cell_type": "markdown",
   "metadata": {},
   "source": [
    "- Now we start to clean up the data we're working with. We want to store the data as a dictionary, and the keys we're using are going to be pulled from the csv file the data is stored in. That way, if we get a new data set, as long as it has a header, it will get parsed by this script"
   ]
  },
  {
   "cell_type": "code",
   "execution_count": 58,
   "metadata": {},
   "outputs": [],
   "source": [
    "#PARSE THE DATA\n",
    "\n",
    "#collect the first row as header, convert it to our keys\n",
    "header = insurance_data_str[0].split(',')       #data is comma-separated\n",
    "for i in range(len(header)):\n",
    "    keys[i] = header[i].strip('\\n')             #get rid of those pesky newlines\n",
    "    if keys[i] == 'bmi': \n",
    "        keys[i] = keys[i].upper()               #this is really only here for nicer formatting\n",
    "    else: keys[i] = keys[i].title()\n",
    "    \n",
    "#for the rest of the data, separate each part of it into its own data\n",
    "#print(insurance_data_str)\n",
    "insurance_data_lines = []\n",
    "for i in range(1,len(insurance_data_str)):\n",
    "    insurance_data_str[i] = insurance_data_str[i].strip('\\n')\n",
    "    insurance_data_lines.append(insurance_data_str[i].split(','))\n",
    "\n",
    "# Make a key:value pair for all of the data. The overall dictionary is categorized by number starting with 0 and counting upwards. \n",
    "# Each entry is also a dictionary with the keys all organized as such\n",
    "#insurance_data = {num:dataset for \n",
    "insurance_data = {}\n",
    "for i in range(len(insurance_data_lines)):\n",
    "    insurance_data[i] = dict(zip(keys, insurance_data_lines[i]))\n",
    "    \n",
    "#print(insurance_data)"
   ]
  },
  {
   "cell_type": "markdown",
   "metadata": {},
   "source": [
    "### Now it's time to analyze the data. We'll have one cell available for each of our goals stated at the top of this exercise\n",
    "1. Explore average age:\n",
    "    - average age of people with coverage\n",
    "    - average age of people wiith coverage who smoke\n",
    "    - average age of people with children"
   ]
  },
  {
   "cell_type": "code",
   "execution_count": null,
   "metadata": {},
   "outputs": [],
   "source": [
    "# AVERAGE AGE\n",
    "age_total = 0\n",
    "smoker_age_total = 0\n",
    "smoker_count = 0\n",
    "children_age_total = 0\n",
    "children_count = 0\n",
    "\n",
    "for entry, data in insurance_data.items():\n",
    "    age_total += float(data[\"Age\"])\n",
    "    if data[\"Smoker\"] == \"yes\":\n",
    "        smoker_age_total += float(data[\"Age\"])\n",
    "        smoker_count += 1\n",
    "    if data[\"Children\"] != '0':\n",
    "        children_age_total += float(data[\"Age\"])\n",
    "        children_count += 1\n",
    "\n",
    "\n",
    "average_age = age_total/len(insurance_data)\n",
    "average_smoker_age = smoker_age_total/smoker_count\n",
    "average_parent_age = children_age_total/children_count\n",
    "\n",
    "print(\"This dataset has {num} participants\".format(num=len(insurance_data)))\n",
    "print(\"The average age of this data set is: \", average_age)\n",
    "print(\"The average age of smokers with insurance is: \", average_smoker_age)\n",
    "print(\"The average age of parents is: \", average_parent_age)"
   ]
  },
  {
   "cell_type": "markdown",
   "metadata": {},
   "source": [
    "1. Explore cost vs age:\n",
    "    - average cost of coverage sorted by age and smoker status\n",
    "        - break that down into a few things. Get average cost by age for smokers and non-smokers\n",
    "        "
   ]
  },
  {
   "cell_type": "code",
   "execution_count": null,
   "metadata": {},
   "outputs": [],
   "source": [
    "age_data = {}\n",
    "\n",
    "print('hello')\n",
    "\n",
    "for entry, data in insurance_data.items():\n",
    "    if data[\"Age\"] not in age_data:\n",
    "        age_data.update({data[\"Age\"]:[float(data[\"Charges\"])]})\n",
    "    else: age_data[data[\"Age\"]].append(float(data[\"Charges\"]))\n",
    "    #print(age_data)\n",
    "\n",
    "print(age_data)"
   ]
  },
  {
   "cell_type": "code",
   "execution_count": null,
   "metadata": {},
   "outputs": [],
   "source": [
    "print('hello')"
   ]
  }
 ],
 "metadata": {
  "kernelspec": {
   "display_name": "Python 3",
   "language": "python",
   "name": "python3"
  },
  "language_info": {
   "codemirror_mode": {
    "name": "ipython",
    "version": 3
   },
   "file_extension": ".py",
   "mimetype": "text/x-python",
   "name": "python",
   "nbconvert_exporter": "python",
   "pygments_lexer": "ipython3",
   "version": "3.7.4"
  }
 },
 "nbformat": 4,
 "nbformat_minor": 4
}
